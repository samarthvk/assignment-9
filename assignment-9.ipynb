{
 "cells": [
  {
   "cell_type": "code",
   "execution_count": null,
   "id": "0c930815",
   "metadata": {},
   "outputs": [],
   "source": [
    "1. To what does a relative path refer?\n",
    "ans:\n",
    "    Alternatively referred to as a partial path or non-absolute path,\n",
    "    a relative path is a URL that only contains a portion of the full path."
   ]
  },
  {
   "cell_type": "code",
   "execution_count": 4,
   "id": "239d417f",
   "metadata": {},
   "outputs": [
    {
     "data": {
      "text/plain": [
       "'.'"
      ]
     },
     "execution_count": 4,
     "metadata": {},
     "output_type": "execute_result"
    }
   ],
   "source": [
    "import os\n",
    "path ='C:\\\\Users\\\\Admin'\n",
    "os.path.relpath(path)"
   ]
  },
  {
   "cell_type": "code",
   "execution_count": 3,
   "id": "8a2e99ff",
   "metadata": {},
   "outputs": [
    {
     "data": {
      "text/plain": [
       "'C:\\\\Users\\\\Admin'"
      ]
     },
     "execution_count": 3,
     "metadata": {},
     "output_type": "execute_result"
    }
   ],
   "source": [
    "pwd"
   ]
  },
  {
   "cell_type": "code",
   "execution_count": null,
   "id": "190fc53c",
   "metadata": {},
   "outputs": [],
   "source": [
    "2. What does an absolute path start with your operating system?\n",
    "ans:\n",
    "    In my OS absolute path starts with C:"
   ]
  },
  {
   "cell_type": "code",
   "execution_count": 5,
   "id": "1158567c",
   "metadata": {},
   "outputs": [
    {
     "data": {
      "text/plain": [
       "'C:\\\\Users\\\\Admin'"
      ]
     },
     "execution_count": 5,
     "metadata": {},
     "output_type": "execute_result"
    }
   ],
   "source": [
    "import os\n",
    "path ='C:\\\\Users\\\\Admin'\n",
    "os.path.abspath(path)"
   ]
  },
  {
   "cell_type": "code",
   "execution_count": null,
   "id": "ad3a15b2",
   "metadata": {},
   "outputs": [],
   "source": [
    "3. What do the functions os.getcwd() and os.chdir() do?\n",
    "ans:\n",
    "    os.getcwd() gives current working directory\n",
    "    os.chdir() performs change directory"
   ]
  },
  {
   "cell_type": "code",
   "execution_count": null,
   "id": "4835c519",
   "metadata": {},
   "outputs": [],
   "source": [
    "4. What are the . and .. folders?\n",
    "ans:\n",
    "    . = this directory\n",
    "    ..= parent directory"
   ]
  },
  {
   "cell_type": "code",
   "execution_count": null,
   "id": "dffd20ae",
   "metadata": {},
   "outputs": [],
   "source": [
    "5. In C:\\bacon\\eggs\\spam.txt, which part is the dir name, and which part is the base name?\n",
    "ans:\n",
    "    C:\\bacon\\eggs ----> dir name\n",
    "    spam.txt ----> base name"
   ]
  },
  {
   "cell_type": "code",
   "execution_count": null,
   "id": "b1f46092",
   "metadata": {},
   "outputs": [],
   "source": [
    "6. What are the three “mode” arguments that can be passed to the open() function?\n",
    "ans:\n",
    "    1) 'r' --> open for reading.\n",
    "    2) 'w' --> open for writing.\n",
    "    3) 'a' --> open for appending."
   ]
  },
  {
   "cell_type": "code",
   "execution_count": null,
   "id": "9b1a0396",
   "metadata": {},
   "outputs": [],
   "source": [
    "7. What happens if an existing file is opened in write mode?\n",
    "ans:\n",
    "    when an existing file is opened in write mode previous content is erased and file is treated as \n",
    "new empty file.\n",
    "    If the given file does not exist, a new one will be created."
   ]
  },
  {
   "cell_type": "code",
   "execution_count": null,
   "id": "167ebabc",
   "metadata": {},
   "outputs": [],
   "source": [
    "8. How do you tell the difference between read() and readlines()?\n",
    "ans:\n",
    "    read() means it iterates over each character in a given file.\n",
    "    readlines() means read only single line of the given file."
   ]
  },
  {
   "cell_type": "code",
   "execution_count": null,
   "id": "3aa11df7",
   "metadata": {},
   "outputs": [],
   "source": [
    "9. What data structure does a shelf value resemble?\n",
    "ans:\n",
    "     It contains key and values pair it isrepresent as dictionary."
   ]
  }
 ],
 "metadata": {
  "kernelspec": {
   "display_name": "Python 3 (ipykernel)",
   "language": "python",
   "name": "python3"
  },
  "language_info": {
   "codemirror_mode": {
    "name": "ipython",
    "version": 3
   },
   "file_extension": ".py",
   "mimetype": "text/x-python",
   "name": "python",
   "nbconvert_exporter": "python",
   "pygments_lexer": "ipython3",
   "version": "3.9.7"
  }
 },
 "nbformat": 4,
 "nbformat_minor": 5
}
